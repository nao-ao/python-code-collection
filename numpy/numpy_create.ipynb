{
  "nbformat": 4,
  "nbformat_minor": 0,
  "metadata": {
    "colab": {
      "name": "numpy_create.ipynb",
      "provenance": [],
      "authorship_tag": "ABX9TyPt1UPY2sge5naeW1WLQbWx",
      "include_colab_link": true
    },
    "kernelspec": {
      "name": "python3",
      "display_name": "Python 3"
    },
    "language_info": {
      "name": "python"
    }
  },
  "cells": [
    {
      "cell_type": "markdown",
      "metadata": {
        "id": "view-in-github",
        "colab_type": "text"
      },
      "source": [
        "<a href=\"https://colab.research.google.com/github/nao-ao/python-code-collection/blob/main/numpy/numpy_create.ipynb\" target=\"_parent\"><img src=\"https://colab.research.google.com/assets/colab-badge.svg\" alt=\"Open In Colab\"/></a>"
      ]
    },
    {
      "cell_type": "markdown",
      "source": [
        "# numpy の作成方法"
      ],
      "metadata": {
        "id": "8hJc6hznN-WQ"
      }
    },
    {
      "cell_type": "code",
      "execution_count": 95,
      "metadata": {
        "id": "IkExYNwxJMJa"
      },
      "outputs": [],
      "source": [
        "import numpy as np\n",
        "np.random.seed(seed=42)"
      ]
    },
    {
      "cell_type": "markdown",
      "source": [
        "## 0 埋め `np.zeros`"
      ],
      "metadata": {
        "id": "CiqMYSFuN7jq"
      }
    },
    {
      "cell_type": "code",
      "source": [
        "a = np.zeros(2)\n",
        "print(f\"a.shape = {a.shape} \\na = {a}\\n\")\n",
        "\n",
        "b = np.zeros((2, 3))\n",
        "print(f\"b.shape = {b.shape} \\nb =\\n{b}\\n\")\n",
        "\n",
        "c = np.zeros((2, 3, 4))\n",
        "print(f\"c.shape = {c.shape} \\nc =\\n{c}\\n\")"
      ],
      "metadata": {
        "colab": {
          "base_uri": "https://localhost:8080/"
        },
        "id": "yumlBYd3N7LP",
        "outputId": "360e2713-ea66-4b55-8cd2-329c0f8c4af7"
      },
      "execution_count": 96,
      "outputs": [
        {
          "output_type": "stream",
          "name": "stdout",
          "text": [
            "a.shape = (2,) \n",
            "a = [0. 0.]\n",
            "\n",
            "b.shape = (2, 3) \n",
            "b =\n",
            "[[0. 0. 0.]\n",
            " [0. 0. 0.]]\n",
            "\n",
            "c.shape = (2, 3, 4) \n",
            "c =\n",
            "[[[0. 0. 0. 0.]\n",
            "  [0. 0. 0. 0.]\n",
            "  [0. 0. 0. 0.]]\n",
            "\n",
            " [[0. 0. 0. 0.]\n",
            "  [0. 0. 0. 0.]\n",
            "  [0. 0. 0. 0.]]]\n",
            "\n"
          ]
        }
      ]
    },
    {
      "cell_type": "markdown",
      "source": [
        "## 1埋め `np.ones`"
      ],
      "metadata": {
        "id": "AMUD-J2_OrxB"
      }
    },
    {
      "cell_type": "code",
      "source": [
        "a = np.ones(2)\n",
        "print(f\"a.shape = {a.shape} \\na = {a}\\n\")\n",
        "\n",
        "b = np.ones((2, 3))\n",
        "print(f\"b.shape = {b.shape} \\nb =\\n{b}\\n\")\n",
        "\n",
        "c = np.ones((2, 3, 4))\n",
        "print(f\"c.shape = {c.shape} \\nc =\\n{c}\\n\")"
      ],
      "metadata": {
        "colab": {
          "base_uri": "https://localhost:8080/"
        },
        "id": "zZ0It7j8OuBE",
        "outputId": "9f3bc7fe-01f0-4750-b36e-c98dcc247681"
      },
      "execution_count": 97,
      "outputs": [
        {
          "output_type": "stream",
          "name": "stdout",
          "text": [
            "a.shape = (2,) \n",
            "a = [1. 1.]\n",
            "\n",
            "b.shape = (2, 3) \n",
            "b =\n",
            "[[1. 1. 1.]\n",
            " [1. 1. 1.]]\n",
            "\n",
            "c.shape = (2, 3, 4) \n",
            "c =\n",
            "[[[1. 1. 1. 1.]\n",
            "  [1. 1. 1. 1.]\n",
            "  [1. 1. 1. 1.]]\n",
            "\n",
            " [[1. 1. 1. 1.]\n",
            "  [1. 1. 1. 1.]\n",
            "  [1. 1. 1. 1.]]]\n",
            "\n"
          ]
        }
      ]
    },
    {
      "cell_type": "markdown",
      "source": [
        "## 任意の値のみで埋める `np.full`"
      ],
      "metadata": {
        "id": "xhPlGe0PPGA7"
      }
    },
    {
      "cell_type": "code",
      "source": [
        "a = np.full(2, 3.14)\n",
        "print(f\"a.shape = {a.shape} \\na = {a}\\n\")\n",
        "\n",
        "b = np.full((2, 3), 3.14)\n",
        "print(f\"b.shape = {b.shape} \\nb =\\n{b}\\n\")\n",
        "\n",
        "c = np.full((2, 3, 4), 3.14)\n",
        "print(f\"c.shape = {c.shape} \\nc =\\n{c}\\n\")"
      ],
      "metadata": {
        "colab": {
          "base_uri": "https://localhost:8080/"
        },
        "id": "9gA0d2_0MABb",
        "outputId": "ef3e9b7d-9aeb-48d6-b595-ff75e3666f14"
      },
      "execution_count": 98,
      "outputs": [
        {
          "output_type": "stream",
          "name": "stdout",
          "text": [
            "a.shape = (2,) \n",
            "a = [3.14 3.14]\n",
            "\n",
            "b.shape = (2, 3) \n",
            "b =\n",
            "[[3.14 3.14 3.14]\n",
            " [3.14 3.14 3.14]]\n",
            "\n",
            "c.shape = (2, 3, 4) \n",
            "c =\n",
            "[[[3.14 3.14 3.14 3.14]\n",
            "  [3.14 3.14 3.14 3.14]\n",
            "  [3.14 3.14 3.14 3.14]]\n",
            "\n",
            " [[3.14 3.14 3.14 3.14]\n",
            "  [3.14 3.14 3.14 3.14]\n",
            "  [3.14 3.14 3.14 3.14]]]\n",
            "\n"
          ]
        }
      ]
    },
    {
      "cell_type": "markdown",
      "source": [
        "## 一様分布（0.0以上、1.0未満）の一様乱数で埋める `random.rand`"
      ],
      "metadata": {
        "id": "jrAMW9oQQazh"
      }
    },
    {
      "cell_type": "code",
      "source": [
        "a = np.random.rand(2)\n",
        "print(f\"a.shape = {a.shape} \\na = {a}\\n\")\n",
        "\n",
        "b = np.random.rand(2, 3)\n",
        "print(f\"b.shape = {b.shape} \\nb =\\n{b}\\n\")\n",
        "\n",
        "c = np.random.rand(2, 3, 4)\n",
        "print(f\"c.shape = {c.shape} \\nc =\\n{c}\\n\")"
      ],
      "metadata": {
        "colab": {
          "base_uri": "https://localhost:8080/"
        },
        "id": "jt9DgdgCRLaf",
        "outputId": "c7b99c29-1fb1-4b62-89bc-01a990c4bec1"
      },
      "execution_count": 99,
      "outputs": [
        {
          "output_type": "stream",
          "name": "stdout",
          "text": [
            "a.shape = (2,) \n",
            "a = [0.37454012 0.95071431]\n",
            "\n",
            "b.shape = (2, 3) \n",
            "b =\n",
            "[[0.73199394 0.59865848 0.15601864]\n",
            " [0.15599452 0.05808361 0.86617615]]\n",
            "\n",
            "c.shape = (2, 3, 4) \n",
            "c =\n",
            "[[[0.60111501 0.70807258 0.02058449 0.96990985]\n",
            "  [0.83244264 0.21233911 0.18182497 0.18340451]\n",
            "  [0.30424224 0.52475643 0.43194502 0.29122914]]\n",
            "\n",
            " [[0.61185289 0.13949386 0.29214465 0.36636184]\n",
            "  [0.45606998 0.78517596 0.19967378 0.51423444]\n",
            "  [0.59241457 0.04645041 0.60754485 0.17052412]]]\n",
            "\n"
          ]
        }
      ]
    },
    {
      "cell_type": "markdown",
      "source": [
        "\n"
      ],
      "metadata": {
        "id": "8KgwYfuzR45h"
      }
    },
    {
      "cell_type": "code",
      "source": [
        "a = np.random.random(2)\n",
        "print(f\"a.shape = {a.shape} \\na = {a}\\n\")\n",
        "\n",
        "b = np.random.rand(2, 3)\n",
        "print(f\"b.shape = {b.shape} \\nb =\\n{b}\\n\")\n",
        "\n",
        "c = np.random.random([2, 3, 4])\n",
        "print(f\"c.shape = {c.shape} \\nc =\\n{c}\\n\")"
      ],
      "metadata": {
        "colab": {
          "base_uri": "https://localhost:8080/"
        },
        "id": "belX292rQVTo",
        "outputId": "98628700-9599-45b8-d22b-8c1f7ecdfdab"
      },
      "execution_count": 100,
      "outputs": [
        {
          "output_type": "stream",
          "name": "stdout",
          "text": [
            "a.shape = (2,) \n",
            "a = [0.06505159 0.94888554]\n",
            "\n",
            "b.shape = (2, 3) \n",
            "b =\n",
            "[[0.96563203 0.80839735 0.30461377]\n",
            " [0.09767211 0.68423303 0.44015249]]\n",
            "\n",
            "c.shape = (2, 3, 4) \n",
            "c =\n",
            "[[[0.12203823 0.49517691 0.03438852 0.9093204 ]\n",
            "  [0.25877998 0.66252228 0.31171108 0.52006802]\n",
            "  [0.54671028 0.18485446 0.96958463 0.77513282]]\n",
            "\n",
            " [[0.93949894 0.89482735 0.59789998 0.92187424]\n",
            "  [0.0884925  0.19598286 0.04522729 0.32533033]\n",
            "  [0.38867729 0.27134903 0.82873751 0.35675333]]]\n",
            "\n"
          ]
        }
      ]
    },
    {
      "cell_type": "markdown",
      "source": [
        "## 一様分布（任意の範囲の整数）の乱数で埋める `random.randint`"
      ],
      "metadata": {
        "id": "0wVN2elkSzbX"
      }
    },
    {
      "cell_type": "code",
      "source": [
        "# 0 以上 10 未満\n",
        "a = np.random.randint(0, 10, (2))\n",
        "print(f\"a.shape = {a.shape} \\na = {a}\\n\")\n",
        "\n",
        "b = np.random.randint(0, 10, (2, 3))\n",
        "print(f\"b.shape = {b.shape} \\nb =\\n{b}\\n\")\n",
        "\n",
        "c = np.random.randint(0, 10, (2, 3, 4))\n",
        "print(f\"c.shape = {c.shape} \\nc =\\n{c}\\n\")"
      ],
      "metadata": {
        "colab": {
          "base_uri": "https://localhost:8080/"
        },
        "id": "oaJt8PEvSqL-",
        "outputId": "921e0da8-e3c3-4411-bfff-5abb1a5bbb90"
      },
      "execution_count": 101,
      "outputs": [
        {
          "output_type": "stream",
          "name": "stdout",
          "text": [
            "a.shape = (2,) \n",
            "a = [8 0]\n",
            "\n",
            "b.shape = (2, 3) \n",
            "b =\n",
            "[[8 6 8]\n",
            " [7 0 7]]\n",
            "\n",
            "c.shape = (2, 3, 4) \n",
            "c =\n",
            "[[[7 2 0 7]\n",
            "  [2 2 0 4]\n",
            "  [9 6 9 8]]\n",
            "\n",
            " [[6 8 7 1]\n",
            "  [0 6 6 7]\n",
            "  [4 2 7 5]]]\n",
            "\n"
          ]
        }
      ]
    },
    {
      "cell_type": "markdown",
      "source": [
        "## 連番で埋める `np.arange`"
      ],
      "metadata": {
        "id": "ae3sLD9iPdEj"
      }
    },
    {
      "cell_type": "code",
      "source": [
        "a = np.arange(10)\n",
        "print(f\"a.shape = {a.shape} \\na = {a}\\n\")\n",
        "\n",
        "b = np.arange(0, 20, 2)\n",
        "print(f\"b.shape = {b.shape} \\nb =\\n{b}\\n\")\n",
        "\n",
        "c = np.arange(1, 10).reshape((3, 3))\n",
        "print(f\"c.shape = {c.shape} \\nc =\\n{c}\\n\")"
      ],
      "metadata": {
        "colab": {
          "base_uri": "https://localhost:8080/"
        },
        "id": "9c0oHemoPcIu",
        "outputId": "d4940a12-a562-4f11-de5c-009776d86a9c"
      },
      "execution_count": 102,
      "outputs": [
        {
          "output_type": "stream",
          "name": "stdout",
          "text": [
            "a.shape = (10,) \n",
            "a = [0 1 2 3 4 5 6 7 8 9]\n",
            "\n",
            "b.shape = (10,) \n",
            "b =\n",
            "[ 0  2  4  6  8 10 12 14 16 18]\n",
            "\n",
            "c.shape = (3, 3) \n",
            "c =\n",
            "[[1 2 3]\n",
            " [4 5 6]\n",
            " [7 8 9]]\n",
            "\n"
          ]
        }
      ]
    }
  ]
}
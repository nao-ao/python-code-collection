{
  "nbformat": 4,
  "nbformat_minor": 0,
  "metadata": {
    "colab": {
      "name": "json_read_write.ipynb",
      "provenance": [],
      "authorship_tag": "ABX9TyPP+TzHt3sfbuSPHHAX3wk8",
      "include_colab_link": true
    },
    "kernelspec": {
      "name": "python3",
      "display_name": "Python 3"
    },
    "language_info": {
      "name": "python"
    }
  },
  "cells": [
    {
      "cell_type": "markdown",
      "metadata": {
        "id": "view-in-github",
        "colab_type": "text"
      },
      "source": [
        "<a href=\"https://colab.research.google.com/github/nao-ao/python-code-collection/blob/main/tips/json_read_write.ipynb\" target=\"_parent\"><img src=\"https://colab.research.google.com/assets/colab-badge.svg\" alt=\"Open In Colab\"/></a>"
      ]
    },
    {
      "cell_type": "markdown",
      "source": [
        "# json の import"
      ],
      "metadata": {
        "id": "xgKCkt0jx40-"
      }
    },
    {
      "cell_type": "code",
      "execution_count": 15,
      "metadata": {
        "id": "cTyw1cdbxA03"
      },
      "outputs": [],
      "source": [
        "import json"
      ]
    },
    {
      "cell_type": "markdown",
      "source": [
        "# 辞書の作成"
      ],
      "metadata": {
        "id": "8hUITG30x7nx"
      }
    },
    {
      "cell_type": "code",
      "source": [
        "nakigoe_dict = {}\n",
        "nakigoe_dict[\"neko\"] = \"nya-\"\n",
        "nakigoe_dict[\"inu\"] = \"wan\"\n",
        "nakigoe_dict[\"fox\"] = \"konkon\"\n",
        "nakigoe_dict[\"kaeru\"] = \"kerokro\"\n",
        "nakigoe_dict[\"zebra\"] = \"wan\""
      ],
      "metadata": {
        "id": "cKMO38nBxK9S"
      },
      "execution_count": 16,
      "outputs": []
    },
    {
      "cell_type": "markdown",
      "source": [
        "# 辞書の書き込み"
      ],
      "metadata": {
        "id": "GianCKNFyAgQ"
      }
    },
    {
      "cell_type": "code",
      "source": [
        "dict_name = './nakigoe.json'\n",
        "with open(dict_name, 'w') as f:\n",
        "    json.dump(nakigoe_dict, f, indent=4)\n"
      ],
      "metadata": {
        "id": "h9EpnKjNxEXA"
      },
      "execution_count": 17,
      "outputs": []
    },
    {
      "cell_type": "markdown",
      "source": [
        "# 辞書の読み込み"
      ],
      "metadata": {
        "id": "2TlRtAv3yC8B"
      }
    },
    {
      "cell_type": "code",
      "source": [
        "param_dir = \"./nakigoe.json\"\n",
        "tf = open(param_dir, \"r\")\n",
        "nakigoe_read = json.load(tf)\n",
        "print(nakigoe_read)"
      ],
      "metadata": {
        "colab": {
          "base_uri": "https://localhost:8080/"
        },
        "id": "df_dbVmmxIPL",
        "outputId": "427c4e34-7dd6-48da-b5b4-1b64105aff8c"
      },
      "execution_count": 18,
      "outputs": [
        {
          "output_type": "stream",
          "name": "stdout",
          "text": [
            "{'neko': 'nya-', 'inu': 'wan', 'fox': 'konkon', 'kaeru': 'kerokro', 'zebra': 'wan'}\n"
          ]
        }
      ]
    },
    {
      "cell_type": "markdown",
      "source": [
        "# 全コード"
      ],
      "metadata": {
        "id": "7OID1-sPyIzU"
      }
    },
    {
      "cell_type": "code",
      "source": [
        "# import\n",
        "import json\n",
        "\n",
        "# 辞書の作成\n",
        "nakigoe_dict = {}\n",
        "nakigoe_dict[\"neko\"] = \"nya-\"\n",
        "nakigoe_dict[\"inu\"] = \"wan\"\n",
        "nakigoe_dict[\"fox\"] = \"konkon\"\n",
        "nakigoe_dict[\"kaeru\"] = \"kerokro\"\n",
        "nakigoe_dict[\"zebra\"] = \"wan\"\n",
        "print(nakigoe_dict)\n",
        "print(type(nakigoe_dict))\n",
        "\n",
        "# 辞書を json ファイルに書き込み\n",
        "dict_name = './nakigoe.json'\n",
        "with open(dict_name, 'w') as f:\n",
        "    json.dump(nakigoe_dict, f, indent=4)\n",
        "\n",
        "# json ファイルを辞書として読み込み\n",
        "param_dir = \"./nakigoe.json\"\n",
        "tf = open(param_dir, \"r\")\n",
        "nakigoe_read = json.load(tf)\n",
        "\n",
        "print(nakigoe_read)\n",
        "print(type(nakigoe_read))\n"
      ],
      "metadata": {
        "colab": {
          "base_uri": "https://localhost:8080/"
        },
        "id": "khoat0Z7yMSB",
        "outputId": "8790b060-8725-41d7-a5a2-15922c6c73a8"
      },
      "execution_count": 19,
      "outputs": [
        {
          "output_type": "stream",
          "name": "stdout",
          "text": [
            "{'neko': 'nya-', 'inu': 'wan', 'fox': 'konkon', 'kaeru': 'kerokro', 'zebra': 'wan'}\n",
            "<class 'dict'>\n",
            "{'neko': 'nya-', 'inu': 'wan', 'fox': 'konkon', 'kaeru': 'kerokro', 'zebra': 'wan'}\n",
            "<class 'dict'>\n"
          ]
        }
      ]
    }
  ]
}
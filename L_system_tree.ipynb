{
  "nbformat": 4,
  "nbformat_minor": 0,
  "metadata": {
    "colab": {
      "name": "アルゴリズム設計論_第13回_Lシステム.ipynb",
      "provenance": [],
      "collapsed_sections": [],
      "authorship_tag": "ABX9TyOSIoI3FClgJ1eaWxJxn3gH",
      "include_colab_link": true
    },
    "kernelspec": {
      "name": "python3",
      "display_name": "Python 3"
    },
    "language_info": {
      "name": "python"
    }
  },
  "cells": [
    {
      "cell_type": "markdown",
      "metadata": {
        "id": "view-in-github",
        "colab_type": "text"
      },
      "source": [
        "<a href=\"https://colab.research.google.com/github/nao-ao/python-code-collection/blob/main/L_system_tree.ipynb\" target=\"_parent\"><img src=\"https://colab.research.google.com/assets/colab-badge.svg\" alt=\"Open In Colab\"/></a>"
      ]
    },
    {
      "cell_type": "code",
      "source": [
        "import matplotlib.pyplot as plt\n",
        "from scipy.spatial import distance\n",
        "import numpy as np"
      ],
      "metadata": {
        "id": "cvCGlGUiBPS1"
      },
      "execution_count": 581,
      "outputs": []
    },
    {
      "cell_type": "code",
      "execution_count": 582,
      "metadata": {
        "id": "97tKqRhjABYe"
      },
      "outputs": [],
      "source": [
        "generation = 5 # 世代\n",
        "infomation = np.array([\n",
        "        [1, 0.5, -30], # 枝のどこから生やすか, 生やす枝の長さ, 生やす枝の角度\n",
        "        [0.5, 0.45, 45],\n",
        "        [0.3, 0.7, -20],\n",
        "        [0.8, 0.3, 60],\n",
        "        [1, 0.5, 30],\n",
        "])"
      ]
    },
    {
      "cell_type": "code",
      "source": [
        "def rotation_o(u, t):\n",
        "    # 度数単位の角度をラジアンに変換\n",
        "    t = np.deg2rad(t)\n",
        "    # 回転行列\n",
        "    R = np.array([[np.cos(t), -np.sin(t)],\n",
        "                  [np.sin(t),  np.cos(t)]])\n",
        "    return  np.dot(R, u)\n"
      ],
      "metadata": {
        "id": "ptK0mUGZEWOH"
      },
      "execution_count": 583,
      "outputs": []
    },
    {
      "cell_type": "code",
      "source": [
        "def l_system(gen, infomation, old_x, old_y):\n",
        "    for info in infomation:\n",
        "        if gen == 0:\n",
        "            pass\n",
        "        else:\n",
        "            position_r = info[0] # 枝のどこから生やすか\n",
        "            length_r = info[1] # 生やす枝の長さ\n",
        "            deg = info[2] # 生やす枝の角度\n",
        "\n",
        "            # はやす枝の生えぎわの座標\n",
        "            root_x = old_x[1] * position_r + old_x[0] * (1-position_r)\n",
        "            root_y = old_y[1] * position_r + old_y[0] * (1-position_r)\n",
        "\n",
        "            # はやす枝の長さ\n",
        "            old_a = np.array([old_x[0], old_y[0]])\n",
        "            old_b = np.array([old_x[1], old_y[1]])\n",
        "            edge_length = distance.euclidean(old_a, old_b) * length_r\n",
        "\n",
        "            # はやす枝の角度\n",
        "            vec = np.array([\n",
        "                            old_x[1] - old_x[0], old_y[1] - old_y[0]\n",
        "            ])\n",
        "            base_deg = - np.rad2deg(np.arctan2(vec[0], vec[1]))\n",
        "            new_deg = deg + base_deg\n",
        "\n",
        "            # 原点から枝をはやし傾ける\n",
        "            edge = np.array([0, 0 + edge_length])\n",
        "            leaf_xy = rotation_o(edge, new_deg)\n",
        "\n",
        "            # はやす枝の生えぎわの座標に移動させ\n",
        "            # はやした枝の先の座標を求める\n",
        "            leaf_x = root_x + leaf_xy[0]\n",
        "            leaf_y = root_y + leaf_xy[1]\n",
        "\n",
        "            new_x = np.array([root_x, leaf_x])\n",
        "            new_y = np.array([root_y, leaf_y])\n",
        "\n",
        "            # 描画\n",
        "            ax.plot([root_x, leaf_x], [root_y, leaf_y])\n",
        "\n",
        "            # 再帰\n",
        "            l_system(gen-1, infomation, new_x, new_y)\n"
      ],
      "metadata": {
        "id": "mraCaHnqOzni"
      },
      "execution_count": 584,
      "outputs": []
    },
    {
      "cell_type": "code",
      "source": [
        "fig = plt.figure()\n",
        "ax = fig.add_subplot(1, 1, 1)\n",
        "\n",
        "x = np.array([0, 0])\n",
        "y = np.array([0, 1])\n",
        "ax.plot(x, y)\n",
        "l_system(generation, infomation, x, y)\n",
        "\n",
        "plt.axis('equal')\n",
        "plt.axis('off')\n",
        "plt.plot()\n",
        "fig.savefig('file1.png')"
      ],
      "metadata": {
        "id": "CbLqQraMcb0k"
      },
      "execution_count": null,
      "outputs": []
    },
    {
      "cell_type": "code",
      "source": [
        ""
      ],
      "metadata": {
        "id": "EKD1x3vkBYpg"
      },
      "execution_count": 585,
      "outputs": []
    }
  ]
}